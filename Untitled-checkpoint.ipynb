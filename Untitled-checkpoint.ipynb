{
 "cells": [
  {
   "cell_type": "code",
   "execution_count": null,
   "id": "ace96fa1",
   "metadata": {},
   "outputs": [],
   "source": [
    "x=4\n",
    "y=5\n",
    "z=x+y\n",
    "print(z)"
   ]
  },
  {
   "cell_type": "code",
   "execution_count": null,
   "id": "2349597a",
   "metadata": {},
   "outputs": [],
   "source": [
    "print(\"hello nida\")"
   ]
  },
  {
   "cell_type": "code",
   "execution_count": null,
   "id": "fdf0b745",
   "metadata": {},
   "outputs": [],
   "source": [
    "print(\"baai nida\")"
   ]
  },
  {
   "cell_type": "code",
   "execution_count": null,
   "id": "2b20d669",
   "metadata": {},
   "outputs": [],
   "source": [
    "x=7\n",
    "y=10\n",
    "print(x/y)"
   ]
  },
  {
   "cell_type": "code",
   "execution_count": null,
   "id": "1e3f316b",
   "metadata": {},
   "outputs": [],
   "source": [
    "x=3.9\n",
    "y=10\n",
    "print(y//x)"
   ]
  },
  {
   "cell_type": "code",
   "execution_count": null,
   "id": "bf145393",
   "metadata": {},
   "outputs": [],
   "source": [
    "if 5>2:\n",
    "   print(\"5is greates\")"
   ]
  },
  {
   "cell_type": "code",
   "execution_count": null,
   "id": "416a11e9",
   "metadata": {},
   "outputs": [],
   "source": [
    "print(\"pyton is intertesting\")"
   ]
  },
  {
   "cell_type": "code",
   "execution_count": null,
   "id": "d2540298",
   "metadata": {},
   "outputs": [],
   "source": [
    "print(\"pyton is interesting\")\n",
    "print(75)"
   ]
  },
  {
   "cell_type": "code",
   "execution_count": null,
   "id": "dac06796",
   "metadata": {},
   "outputs": [],
   "source": [
    "salary=2000\n",
    "print(salary)"
   ]
  },
  {
   "cell_type": "code",
   "execution_count": null,
   "id": "e4631a74",
   "metadata": {},
   "outputs": [],
   "source": [
    "x=8 #integer\n",
    "print(x)"
   ]
  },
  {
   "cell_type": "code",
   "execution_count": null,
   "id": "012014ee",
   "metadata": {},
   "outputs": [],
   "source": [
    "x=67\n",
    "print(type(x))"
   ]
  },
  {
   "cell_type": "code",
   "execution_count": null,
   "id": "141c2960",
   "metadata": {},
   "outputs": [],
   "source": [
    "x=6.7\n",
    "print(type(x))"
   ]
  },
  {
   "cell_type": "code",
   "execution_count": null,
   "id": "a1d96e7d",
   "metadata": {},
   "outputs": [],
   "source": [
    "z=\"lubna\"\n",
    "print(type(z))"
   ]
  },
  {
   "cell_type": "code",
   "execution_count": null,
   "id": "e78b8dd5",
   "metadata": {},
   "outputs": [],
   "source": [
    "if 5>2:\n",
    "    print(\"5 is greates\")"
   ]
  },
  {
   "cell_type": "code",
   "execution_count": null,
   "id": "4e75e131",
   "metadata": {},
   "outputs": [],
   "source": [
    "x=y=z=\"orange\"\n",
    "print(x,y,z)"
   ]
  },
  {
   "cell_type": "code",
   "execution_count": null,
   "id": "778fe7ba",
   "metadata": {},
   "outputs": [],
   "source": [
    "x=\"apple\"\n",
    "y=\"orange\"\n",
    "z=\"banana\"\n",
    "print(x+y)"
   ]
  },
  {
   "cell_type": "code",
   "execution_count": null,
   "id": "735c77b1",
   "metadata": {},
   "outputs": [],
   "source": [
    "for i in range(200):\n",
    "    print(\"love u babe\")"
   ]
  },
  {
   "cell_type": "code",
   "execution_count": null,
   "id": "b05566a4",
   "metadata": {},
   "outputs": [],
   "source": [
    "for i in range(1000):\n",
    "    print(\"baaaaaaaaaaaaaaaaaaaaaaaaaaaaaaaaaaaaaai\")"
   ]
  },
  {
   "cell_type": "code",
   "execution_count": null,
   "id": "b30c1039",
   "metadata": {},
   "outputs": [],
   "source": [
    "x=10;\n",
    "x+=4\n",
    "print(x)\n",
    "        "
   ]
  },
  {
   "cell_type": "code",
   "execution_count": null,
   "id": "1928200a",
   "metadata": {},
   "outputs": [],
   "source": [
    "x-=4\n",
    "print(x)"
   ]
  },
  {
   "cell_type": "code",
   "execution_count": null,
   "id": "6347458d",
   "metadata": {},
   "outputs": [],
   "source": [
    "x%=5\n",
    "print(x)"
   ]
  },
  {
   "cell_type": "code",
   "execution_count": null,
   "id": "07df1b74",
   "metadata": {},
   "outputs": [],
   "source": [
    "text=\"  lubn  a \"\n",
    "print(text[2])\n"
   ]
  },
  {
   "cell_type": "code",
   "execution_count": null,
   "id": "a452223e",
   "metadata": {},
   "outputs": [],
   "source": [
    "print(text[1:4])"
   ]
  },
  {
   "cell_type": "code",
   "execution_count": null,
   "id": "b8d612be",
   "metadata": {},
   "outputs": [],
   "source": [
    "print(len(text))"
   ]
  },
  {
   "cell_type": "code",
   "execution_count": null,
   "id": "a8bcc9d7",
   "metadata": {},
   "outputs": [],
   "source": [
    "print(text.strip())"
   ]
  },
  {
   "cell_type": "code",
   "execution_count": null,
   "id": "e996fed4",
   "metadata": {},
   "outputs": [],
   "source": [
    "print(text.upper())"
   ]
  },
  {
   "cell_type": "code",
   "execution_count": null,
   "id": "7c49121f",
   "metadata": {},
   "outputs": [],
   "source": [
    "print(text.lower())"
   ]
  },
  {
   "cell_type": "code",
   "execution_count": null,
   "id": "3d2ce5a9",
   "metadata": {},
   "outputs": [],
   "source": [
    "print(text.replace(\"l\",\"k\"))"
   ]
  },
  {
   "cell_type": "code",
   "execution_count": null,
   "id": "0c200a9e",
   "metadata": {},
   "outputs": [],
   "source": [
    "print(text.replace(\"k\",\"l\"))"
   ]
  },
  {
   "cell_type": "code",
   "execution_count": null,
   "id": "ad3bae2b",
   "metadata": {},
   "outputs": [],
   "source": [
    "name=\"lubna\"\n",
    "age=22\n",
    "text=\"my name is {} , i am {} years old\"\n",
    "print(text.format(name,age))"
   ]
  },
  {
   "cell_type": "code",
   "execution_count": null,
   "id": "c95b9cce",
   "metadata": {},
   "outputs": [],
   "source": [
    "list1=[ \"apple\",\"orange\",\"banana\" ]\n",
    "print(list1)\n"
   ]
  },
  {
   "cell_type": "code",
   "execution_count": null,
   "id": "3d37631c",
   "metadata": {},
   "outputs": [],
   "source": [
    "print(list1[2])"
   ]
  },
  {
   "cell_type": "code",
   "execution_count": null,
   "id": "ec1706dc",
   "metadata": {},
   "outputs": [],
   "source": [
    "list2=[1,2,3]\n",
    "print(list1+list2)"
   ]
  },
  {
   "cell_type": "code",
   "execution_count": null,
   "id": "59279d7f",
   "metadata": {},
   "outputs": [],
   "source": [
    "for i in list2:\n",
    "    print(i)"
   ]
  },
  {
   "cell_type": "code",
   "execution_count": null,
   "id": "d6de69e0",
   "metadata": {},
   "outputs": [],
   "source": [
    "list2.append(5)\n",
    "print(list2)"
   ]
  },
  {
   "cell_type": "code",
   "execution_count": null,
   "id": "900638c9",
   "metadata": {},
   "outputs": [],
   "source": [
    "list2.append(5)\n",
    "print(list2)"
   ]
  },
  {
   "cell_type": "code",
   "execution_count": null,
   "id": "523a0331",
   "metadata": {},
   "outputs": [],
   "source": [
    "list2.remove(5)\n",
    "print(list2)"
   ]
  },
  {
   "cell_type": "code",
   "execution_count": null,
   "id": "86cb3314",
   "metadata": {},
   "outputs": [],
   "source": [
    "list2.insert(1,5)\n",
    "print(list2)"
   ]
  },
  {
   "cell_type": "code",
   "execution_count": null,
   "id": "89a89878",
   "metadata": {},
   "outputs": [],
   "source": [
    "list2.clear()\n",
    "print(list2)"
   ]
  },
  {
   "cell_type": "code",
   "execution_count": null,
   "id": "f885a929",
   "metadata": {},
   "outputs": [],
   "source": [
    "set1={1,3,4,5}\n",
    "print(set1)"
   ]
  },
  {
   "cell_type": "code",
   "execution_count": null,
   "id": "0d2e88c9",
   "metadata": {},
   "outputs": [],
   "source": [
    "tuple1=(\"apple\",\"orange\",\"mango\")\n",
    "print(tuple1)"
   ]
  },
  {
   "cell_type": "code",
   "execution_count": null,
   "id": "2c5df8aa",
   "metadata": {},
   "outputs": [],
   "source": [
    "print(tuple1[0])"
   ]
  },
  {
   "cell_type": "code",
   "execution_count": null,
   "id": "34928227",
   "metadata": {},
   "outputs": [],
   "source": [
    "for i in tuple1:\n",
    "    print(i)"
   ]
  },
  {
   "cell_type": "code",
   "execution_count": null,
   "id": "60af0607",
   "metadata": {},
   "outputs": [],
   "source": [
    "set1={1,3,4,5}\n",
    "print(set1)"
   ]
  },
  {
   "cell_type": "code",
   "execution_count": null,
   "id": "c83c23bb",
   "metadata": {},
   "outputs": [],
   "source": [
    "print(len(set1))"
   ]
  },
  {
   "cell_type": "code",
   "execution_count": null,
   "id": "81b41c20",
   "metadata": {},
   "outputs": [],
   "source": [
    "set1.add(6)\n",
    "print(set1)"
   ]
  },
  {
   "cell_type": "code",
   "execution_count": null,
   "id": "fdc83fed",
   "metadata": {},
   "outputs": [],
   "source": [
    "list=[7,8,9]\n",
    "set1.update(list)\n",
    "print(set1)"
   ]
  },
  {
   "cell_type": "code",
   "execution_count": null,
   "id": "eb6399ce",
   "metadata": {},
   "outputs": [],
   "source": [
    "set1.remove(7)\n",
    "print(set1)\n"
   ]
  },
  {
   "cell_type": "code",
   "execution_count": null,
   "id": "3dfe03be",
   "metadata": {},
   "outputs": [],
   "source": [
    "set1.discard(8)\n",
    "print(set1)"
   ]
  },
  {
   "cell_type": "code",
   "execution_count": null,
   "id": "4da8b227",
   "metadata": {},
   "outputs": [],
   "source": [
    "set3={8,9,10}\n",
    "set2=set1.union(set3)\n",
    "print(set2)"
   ]
  },
  {
   "cell_type": "code",
   "execution_count": null,
   "id": "e9fdcde3",
   "metadata": {},
   "outputs": [],
   "source": [
    "set2.clear()\n",
    "print(set2)"
   ]
  },
  {
   "cell_type": "code",
   "execution_count": null,
   "id": "a16355ac",
   "metadata": {},
   "outputs": [],
   "source": [
    "del set2"
   ]
  },
  {
   "cell_type": "code",
   "execution_count": null,
   "id": "f7b2c8c8",
   "metadata": {},
   "outputs": [],
   "source": [
    "thisdict={\n",
    "  \"name\": \"lubna\",\n",
    "    \"age\": 22\n",
    "}\n",
    "print(thisdict)"
   ]
  },
  {
   "cell_type": "code",
   "execution_count": null,
   "id": "90496ae4",
   "metadata": {},
   "outputs": [],
   "source": [
    "thisdict=dict(place=\"kannnur\",phone=23475901275)\n",
    "print(thisdict)"
   ]
  },
  {
   "cell_type": "code",
   "execution_count": null,
   "id": "21c0cc6c",
   "metadata": {},
   "outputs": [],
   "source": [
    "print(thisdict[\"place\"])"
   ]
  },
  {
   "cell_type": "code",
   "execution_count": null,
   "id": "c49ba2fd",
   "metadata": {},
   "outputs": [],
   "source": [
    "print(thisdict.values())"
   ]
  },
  {
   "cell_type": "code",
   "execution_count": null,
   "id": "c68fe018",
   "metadata": {},
   "outputs": [],
   "source": [
    "print(len(thisdict))"
   ]
  },
  {
   "cell_type": "code",
   "execution_count": null,
   "id": "09583532",
   "metadata": {},
   "outputs": [],
   "source": [
    "print(thisdict.get(\"phone\"))"
   ]
  },
  {
   "cell_type": "code",
   "execution_count": null,
   "id": "c29d883c",
   "metadata": {},
   "outputs": [],
   "source": [
    "thisdict[\"place\"]=\"adoor\"\n",
    "print(thisdict)"
   ]
  },
  {
   "cell_type": "code",
   "execution_count": null,
   "id": "2b3363f9",
   "metadata": {},
   "outputs": [],
   "source": [
    "thisdict[\"name\"]=\"lubna\"\n",
    "print(thisdict)"
   ]
  },
  {
   "cell_type": "code",
   "execution_count": null,
   "id": "9821c824",
   "metadata": {},
   "outputs": [],
   "source": [
    "thisdict.update({\"name\":\"nida\"})\n",
    "print(thisdict)"
   ]
  },
  {
   "cell_type": "code",
   "execution_count": null,
   "id": "a934c894",
   "metadata": {},
   "outputs": [],
   "source": [
    "thisdict.pop(\"phone\")\n",
    "print(thisdict)"
   ]
  },
  {
   "cell_type": "code",
   "execution_count": null,
   "id": "cd5bc0dc",
   "metadata": {},
   "outputs": [],
   "source": [
    "thisdict[\"phome\"]=24680892748\n",
    "print(thisdict)"
   ]
  },
  {
   "cell_type": "code",
   "execution_count": null,
   "id": "d22d38d1",
   "metadata": {},
   "outputs": [],
   "source": [
    "thisdict.popitem()\n",
    "print(thisdict)"
   ]
  },
  {
   "cell_type": "code",
   "execution_count": null,
   "id": "8945c5a9",
   "metadata": {},
   "outputs": [],
   "source": [
    "thisdict.clear()\n",
    "print(thisdict)"
   ]
  },
  {
   "cell_type": "code",
   "execution_count": null,
   "id": "9cf99095",
   "metadata": {},
   "outputs": [],
   "source": [
    "del thisdict "
   ]
  },
  {
   "cell_type": "code",
   "execution_count": null,
   "id": "e36d485e",
   "metadata": {},
   "outputs": [],
   "source": [
    "age=int(input())\n",
    "if age<18:\n",
    "    print(\"you are not eligible\")\n",
    "else:\n",
    "    print(\"you are eligible\")"
   ]
  },
  {
   "cell_type": "code",
   "execution_count": null,
   "id": "2da0de2b",
   "metadata": {},
   "outputs": [],
   "source": [
    "n=int(input())\n",
    "if n % 2 == 1 :\n",
    "    print(\" n is odd\")\n",
    "else:\n",
    "    print(\"n is even\")"
   ]
  },
  {
   "cell_type": "code",
   "execution_count": null,
   "id": "9496a05d",
   "metadata": {},
   "outputs": [],
   "source": [
    "\n",
    "    \n",
    "    \n",
    "    "
   ]
  },
  {
   "cell_type": "code",
   "execution_count": null,
   "id": "697faf3d",
   "metadata": {},
   "outputs": [],
   "source": [
    "mark=int(input(\"Enter the mark:\"))\n",
    "if 85 <= mark  <= 100 :\n",
    "    print(\"congrats you got A grade\")\n",
    "elif 60 > mark <= 85 :\n",
    "    print(\"you scored grade B+\")\n",
    "elif 40< mark <=60:\n",
    "    print(\"you scored grade B\")\n",
    "elif 30<mark <= 40:\n",
    "    print(\"you scored grade C\")\n",
    "else:\n",
    "    print(\" sorry you failed\")\n",
    "    "
   ]
  },
  {
   "cell_type": "code",
   "execution_count": null,
   "id": "ff0267b0",
   "metadata": {},
   "outputs": [],
   "source": [
    "#first 10 natural number\n",
    "for i in range(1,11):\n",
    "    print(i)"
   ]
  },
  {
   "cell_type": "code",
   "execution_count": null,
   "id": "8293074b",
   "metadata": {},
   "outputs": [],
   "source": [
    "#all the even numbers with in the range\n",
    "for i  in range(10):\n",
    "    if i % 2 ==0:\n",
    "     print(i )\n",
    "        "
   ]
  },
  {
   "cell_type": "code",
   "execution_count": null,
   "id": "a9119ba0",
   "metadata": {},
   "outputs": [],
   "source": [
    "#calculate sum of all numbersa from 1 to a given number\n",
    "n=int (input(\"enter the range:\"))\n",
    "s=0\n",
    "for i in range(1 , n + 1):\n",
    "    s=s+i\n",
    "print(s)\n",
    "        \n",
    "    \n",
    "    \n",
    "    "
   ]
  },
  {
   "cell_type": "code",
   "execution_count": null,
   "id": "aa04b63a",
   "metadata": {},
   "outputs": [],
   "source": [
    "#sum of all odd numbers within the given range\n",
    "n=int(input(\"Enter the range:\"))\n",
    "s=0\n",
    "for i in range(1, n+1):\n",
    "    if i % 2  != 0:\n",
    "        s=s+i\n",
    "print(s)        \n",
    "        "
   ]
  },
  {
   "cell_type": "code",
   "execution_count": null,
   "id": "caafb25c",
   "metadata": {},
   "outputs": [],
   "source": [
    "#Find Vowels in a string\n",
    "n=input(\"name: \")\n",
    "s=0\n",
    "for i in n:\n",
    "    if i.lower() in [\"a\",\"i\",\"o\",\"e\",\"u\"]:\n",
    "        s=s+1\n",
    "print(s)"
   ]
  },
  {
   "cell_type": "code",
   "execution_count": null,
   "id": "13499255",
   "metadata": {},
   "outputs": [],
   "source": [
    "n=input(\"name: \")\n",
    "t=0\n",
    "s=[\"a\",\"i\",\"o\",\"e\",\"u\"]\n",
    "for i in n:\n",
    "    if i in s:\n",
    "        t=t+1\n",
    "print(t)"
   ]
  },
  {
   "cell_type": "code",
   "execution_count": null,
   "id": "352a7b10",
   "metadata": {},
   "outputs": [],
   "source": [
    "l=[\"man\",\"women\",\"trans\"]\n",
    "for i in range(len(l)):\n",
    "    print(i)\n",
    "    i=i+2\n"
   ]
  },
  {
   "cell_type": "code",
   "execution_count": null,
   "id": "606fe343",
   "metadata": {},
   "outputs": [],
   "source": [
    "#prime number\n",
    "n=int(input(\"No: \"))\n",
    "for i in range(2,n):\n",
    "    if n%i==0:\n",
    "        print(\"Not Prime!!!\")\n",
    "        break\n",
    "else:\n",
    "    print(\"Prime Number\")"
   ]
  },
  {
   "cell_type": "code",
   "execution_count": null,
   "id": "acb36542",
   "metadata": {},
   "outputs": [],
   "source": [
    "#multiplication table of given number\n",
    "n=int(input(\"Enter the number:\"))\n",
    "print(\"The multiplication table of:\",n)\n",
    "for num in range(1,11):\n",
    "    print(n,'x',num,'=',n*num)"
   ]
  },
  {
   "cell_type": "code",
   "execution_count": null,
   "id": "f8bd0779",
   "metadata": {},
   "outputs": [],
   "source": [
    "#display numbers from list using for loop\n",
    "list1=[1,5,6,7,9,10]\n",
    "for i in list1:\n",
    "    print(i)\n"
   ]
  },
  {
   "cell_type": "code",
   "execution_count": null,
   "id": "4b39052c",
   "metadata": {},
   "outputs": [],
   "source": [
    "#to count the total number of digits in a number\n",
    "n=str(input(\"enter the number:\"))\n",
    "sum=0\n",
    "for i in n:\n",
    "    sum=sum+1\n",
    "print(sum)"
   ]
  },
  {
   "cell_type": "code",
   "execution_count": null,
   "id": "65e65dec",
   "metadata": {},
   "outputs": [],
   "source": [
    "#factorial of A NUMBER\n",
    "n=int(input(\"Enter the number:\"))\n",
    "fact= 1\n",
    "for i in range(1,n+1):\n",
    "    fact=fact*i\n",
    "print(n,\"!=\",fact)"
   ]
  },
  {
   "cell_type": "code",
   "execution_count": null,
   "id": "fedb436b",
   "metadata": {},
   "outputs": [],
   "source": [
    "name=input(\"Eter the name:\")\n",
    "print(name)"
   ]
  },
  {
   "cell_type": "code",
   "execution_count": null,
   "id": "b4598c2b",
   "metadata": {},
   "outputs": [],
   "source": [
    "age=input(\"Enter the age:\")\n",
    "print(age)"
   ]
  },
  {
   "cell_type": "code",
   "execution_count": null,
   "id": "77c0e66a",
   "metadata": {},
   "outputs": [],
   "source": [
    "a=int(input(\"enter the number:\"))\n",
    "if a>0:\n",
    "    print(\"it is a positive number\")\n",
    "else:\n",
    "    print(\"it is a negative number\")"
   ]
  },
  {
   "cell_type": "code",
   "execution_count": null,
   "id": "fbd21df0",
   "metadata": {},
   "outputs": [],
   "source": [
    "name=\"lubna\"\n",
    "print(name[1])\n",
    "print(name[3])\n",
    "print(name[-1])\n",
    "print(name[-4])"
   ]
  },
  {
   "cell_type": "code",
   "execution_count": null,
   "id": "dd6d7987",
   "metadata": {},
   "outputs": [],
   "source": [
    "#Fibonacci\n",
    "x=int(input(\":\"))\n",
    "a=0\n",
    "b=1\n",
    "for i in range(2,x+1):\n",
    "        print(a)\n",
    "        a,b=b,a+b"
   ]
  },
  {
   "cell_type": "code",
   "execution_count": null,
   "id": "3c021b17",
   "metadata": {},
   "outputs": [],
   "source": [
    "#sum of digit using for loop\n",
    "n=input(\"Enter the no: \")\n",
    "s=0\n",
    "for i in n:\n",
    "    s+=int(i)\n",
    "print(s)"
   ]
  },
  {
   "cell_type": "code",
   "execution_count": null,
   "id": "360dc7e6",
   "metadata": {},
   "outputs": [],
   "source": [
    "#fibonacci\n",
    "n=int(input(\"Enter the number:\"))\n",
    "a=0\n",
    "b=1\n",
    "print(a)\n",
    "print(b)\n",
    "for i in range(2,n):\n",
    "    c=a+b\n",
    "    a=b\n",
    "    b=c\n",
    "    print(c)"
   ]
  },
  {
   "cell_type": "code",
   "execution_count": null,
   "id": "8aca2765",
   "metadata": {},
   "outputs": [],
   "source": [
    "#count vowels in a string\n",
    "s=input(\"Enter string:\")\n",
    "count = 0\n",
    "vowels = set(\"aeiou\")\n",
    "for letter in s:\n",
    "    if letter in vowels:\n",
    "     count += 1\n",
    "print(\"Count of the vowels is:\")\n",
    "print(count)"
   ]
  },
  {
   "cell_type": "code",
   "execution_count": null,
   "id": "768ff9e6",
   "metadata": {},
   "outputs": [],
   "source": [
    "#area of a circle with given radius\n",
    "r=float(input(\"Enter the radius\"))\n",
    "area=3.14*r*r\n",
    "print(area)"
   ]
  },
  {
   "cell_type": "code",
   "execution_count": null,
   "id": "0a257fb3",
   "metadata": {},
   "outputs": [],
   "source": [
    "#program that accepts the users first and last name and prints them in reverse order with a space between them\n",
    "n=input(\"first name:\")\n",
    "m=input(\"second name:\")\n",
    "print(n[::-1],m[::-1])"
   ]
  },
  {
   "cell_type": "code",
   "execution_count": null,
   "id": "e7551ae0",
   "metadata": {},
   "outputs": [],
   "source": [
    "#volume of a sphere with raDIUS six\n",
    "r=6\n",
    "v=4/3*3.14*r*r*r\n",
    "print(v)"
   ]
  },
  {
   "cell_type": "code",
   "execution_count": null,
   "id": "6851a038",
   "metadata": {},
   "outputs": [],
   "source": [
    "#program to count the number 4 in a given list\n",
    "def list_count_4(nums):\n",
    "    count = 0  \n",
    "    for num in nums:\n",
    "        if num == 4:\n",
    "            count = count + 1\n",
    "    return count\n",
    "\n",
    "print(list_count_4([1, 4, 6, 7, 4]))\n",
    "print(list_count_4([1, 4, 6, 4, 7, 4]))\n"
   ]
  },
  {
   "cell_type": "code",
   "execution_count": null,
   "id": "70cdd72b",
   "metadata": {},
   "outputs": [],
   "source": [
    "#find max of three number\n",
    "a=input(\"a:\")\n",
    "b=input(\"b:\")\n",
    "c=input(\"c:\")\n",
    "if a>=b and b>=c:\n",
    "    print(a,\"is greatest\")\n",
    "elif b>=a and b>=c:\n",
    "    print(b,\"is greatest\")\n",
    "else:\n",
    "    print(c,\"is greatest\")\n",
    "    \n",
    "    \n"
   ]
  },
  {
   "cell_type": "code",
   "execution_count": null,
   "id": "d3104381",
   "metadata": {},
   "outputs": [],
   "source": [
    "#print lis in reverse order\n",
    "list=[3,5,6,7,89,1]\n",
    "print(list[::-1])"
   ]
  },
  {
   "cell_type": "code",
   "execution_count": null,
   "id": "121fe22a",
   "metadata": {},
   "outputs": [],
   "source": [
    "#display number from -10 tom -1 using for loop\n",
    "for i in range(-10,0):\n",
    "    print(i)\n"
   ]
  },
  {
   "cell_type": "code",
   "execution_count": null,
   "id": "13f73130",
   "metadata": {},
   "outputs": [],
   "source": [
    "#reverse a given integer number\n",
    "num=4321\n",
    "print(str(num)[::-1])"
   ]
  },
  {
   "cell_type": "code",
   "execution_count": null,
   "id": "fe284a77",
   "metadata": {},
   "outputs": [],
   "source": [
    "#calculate cube of given number\n",
    "n=int(input(\"Enter the number:\"))\n",
    "cube=n**3\n",
    "print(cube)"
   ]
  },
  {
   "cell_type": "code",
   "execution_count": null,
   "id": "a88b5427",
   "metadata": {},
   "outputs": [],
   "source": [
    "#use a loop to display elements from a given list  prersent at odd index positions\n",
    "list=[1,5,7,3,4,2]\n",
    "for i in range(len(list)):\n",
    "    if i%2!=0:\n",
    "        print(list[i])\n"
   ]
  },
  {
   "cell_type": "code",
   "execution_count": null,
   "id": "821fc866",
   "metadata": {},
   "outputs": [],
   "source": [
    "# write a python script to generate and print a dictionary that contains a number (betweeen 1 and n) in the form (x,x*x )\n",
    "n=int(input(\"Enter the number:\"))\n",
    "d= dict()\n",
    "for x in range(1,n+1):\n",
    "    d[x]=x*x\n",
    "print(d)\n"
   ]
  },
  {
   "cell_type": "code",
   "execution_count": null,
   "id": "cfde4ea1",
   "metadata": {},
   "outputs": [],
   "source": [
    "#write a python script to merge two python dictionaries\n",
    "d1={'A':1,'B':2}\n",
    "d2={'C':3}\n",
    "d1.update(d2)\n",
    "print(\"Concatenated dictionary is:\")\n",
    "print(d1)\n",
    "\n",
    "\n"
   ]
  },
  {
   "cell_type": "code",
   "execution_count": null,
   "id": "f764dc48",
   "metadata": {},
   "outputs": [],
   "source": [
    "#program to sum all the item in a dictionary\n",
    "my_dict = {'a': 1, 'b': 2, 'c': 3}\n",
    "\n",
    "print(sum(my_dict.values()))"
   ]
  },
  {
   "cell_type": "code",
   "execution_count": null,
   "id": "8ecc41a5",
   "metadata": {},
   "outputs": [],
   "source": []
  },
  {
   "cell_type": "code",
   "execution_count": null,
   "id": "c8ec7e4d",
   "metadata": {},
   "outputs": [],
   "source": [
    "#program to remove  a key from a dictionary\n",
    "m = {'a': 4, 'b': 3, 'c': 6}\n",
    "m.pop('a')\n",
    "m"
   ]
  },
  {
   "cell_type": "code",
   "execution_count": null,
   "id": "f11a3304",
   "metadata": {},
   "outputs": [],
   "source": [
    "#program to multiply all the item in a dictionary\n",
    "my_dict = {'a': 4, 'b': 3, 'c': 6}\n",
    "p=1\n",
    "for x in my_dict:\n",
    "    o=my_dict[x]\n",
    "    p=o*p\n",
    "print(p)"
   ]
  },
  {
   "cell_type": "code",
   "execution_count": null,
   "id": "9e7d3e21",
   "metadata": {},
   "outputs": [],
   "source": [
    "#program to print a dictionary line by line\n",
    "y = {'a': 4, 'b': 3, 'c': 6}\n",
    "for key in y:\n",
    "    print(key,y[key])"
   ]
  },
  {
   "cell_type": "code",
   "execution_count": null,
   "id": "e18858e3",
   "metadata": {},
   "outputs": [],
   "source": [
    "#program to create a dictionary of keys x,y,z where each keyy has value a list from 11-20,21-30and 31-40 respectively. access the fifth value of each key from the dictionary\n",
    "my_dict = {\"x\": list(range(11, 21)), \"y\": list(range(21, 31)), \"z\": list(range(31, 41))}\n",
    "\n",
    "for key in my_dict:\n",
    "    print(f\"The fifth value of key {key} is: {my_dict[key][4]}\")"
   ]
  },
  {
   "cell_type": "code",
   "execution_count": null,
   "id": "6065141d",
   "metadata": {},
   "outputs": [],
   "source": [
    "#program to print\n",
    "#Twinkle, twinkle, little star,\n",
    "#\tHow I wonder what you are! \n",
    "#\t\tUp above the world so high,   \t\t\n",
    "#\t\tLike a diamond in the sky. \n",
    "#Twinkle, twinkle, little star, \n",
    "#\tHow I wonder what you are\n",
    "print(\"Twinkle, twinkle, little star,\\n\\tHow I wonder what you are!\\n\\t\\tUp above the world so high,\\n\\t\\tLike a diamond in the sky.\\nTwinkle, twinkle, little star,\\n\\tHow I wonder what you are\")"
   ]
  },
  {
   "cell_type": "code",
   "execution_count": null,
   "id": "6de1e978",
   "metadata": {},
   "outputs": [],
   "source": [
    "#Write a Python program to find out what version of Python you are using\n",
    "import platform\n",
    "print(platform.python_version())"
   ]
  },
  {
   "cell_type": "code",
   "execution_count": null,
   "id": "ecea8075",
   "metadata": {},
   "outputs": [],
   "source": [
    " #Write a Python program to display the current date and time.\n",
    "import datetime\n",
    "now = datetime.datetime.now()\n",
    "print (\"Current date and time : \")\n",
    "print (now.strftime(\"%Y-%m-%d %H:%M:%S\"))\n",
    " "
   ]
  },
  {
   "cell_type": "code",
   "execution_count": null,
   "id": "329f3dbd",
   "metadata": {},
   "outputs": [],
   "source": [
    "#print how many letters in a word google\n",
    "a=\"google\"\n",
    "print(len(a))"
   ]
  },
  {
   "cell_type": "code",
   "execution_count": null,
   "id": "7bb4fa5a",
   "metadata": {},
   "outputs": [],
   "source": [
    "#print no divisible by 5 from list\n",
    "list=[1,4,5,6,7,10,15]\n",
    "for i in list:\n",
    "    if i % 5 == 0:\n",
    "        print(i)"
   ]
  },
  {
   "cell_type": "code",
   "execution_count": null,
   "id": "167fb6e1",
   "metadata": {},
   "outputs": [],
   "source": [
    "#return the count of the given substrig from a string,ie write a program to find  how many times substring  \"apple\" appears in the given string\n",
    "\n",
    "\n",
    "txt=\"i like apple,apple is very healthy\"\n",
    "a=txt.count(\"apple\")\n",
    "print(a)\n",
    "\n"
   ]
  },
  {
   "cell_type": "code",
   "execution_count": null,
   "id": "8856ace4",
   "metadata": {},
   "outputs": [],
   "source": [
    "list1=[60,25,79,84,6,90,80,50]"
   ]
  },
  {
   "cell_type": "code",
   "execution_count": null,
   "id": "1fa7b6fa",
   "metadata": {},
   "outputs": [],
   "source": [
    "#remove no>50 from given list\n",
    "list1=[60,25,79,84,6,90,80,50]\n",
    "l2=[]\n",
    "for i in  list1:\n",
    "\n",
    "    if i < 50 :\n",
    "        l2.append(i)\n",
    "print(l2)"
   ]
  },
  {
   "cell_type": "code",
   "execution_count": null,
   "id": "7821501c",
   "metadata": {},
   "outputs": [],
   "source": [
    "#display all the duplicate item from the list \n",
    "l5=[1,3,4,2,1,2,5,6,7,5,8,9]\n",
    "\n",
    "for i in l5:\n",
    "    if i == i:\n",
    "        \n",
    "print(i)            \n",
    "    \n",
    "\n"
   ]
  },
  {
   "cell_type": "code",
   "execution_count": null,
   "id": "d5d7de94",
   "metadata": {},
   "outputs": [],
   "source": [
    "import numpy as np\n",
    "import  matplotlib.pyplot as plt \n",
    "%matplotlib inline\n",
    "import seaborn as sns \n",
    "df=sns.load_dataset('tips')\n",
    "\n"
   ]
  },
  {
   "cell_type": "code",
   "execution_count": 4,
   "id": "92454b8a",
   "metadata": {},
   "outputs": [
    {
     "name": "stdout",
     "output_type": "stream",
     "text": [
      "113.03999999999999\n"
     ]
    }
   ],
   "source": [
    "def area(r):\n",
    "    print(3.14*r*r)\n",
    "area(6)\n"
   ]
  },
  {
   "cell_type": "code",
   "execution_count": 5,
   "id": "14113d68",
   "metadata": {},
   "outputs": [
    {
     "name": "stdout",
     "output_type": "stream",
     "text": [
      "{0: 0, 1: 1, 2: 4, 3: 9, 4: 16}\n"
     ]
    }
   ],
   "source": [
    "dict={}\n",
    "for i in range(5):\n",
    "    dict[i]=i*i\n",
    "print(dict)    "
   ]
  },
  {
   "cell_type": "code",
   "execution_count": null,
   "id": "dac9db2c",
   "metadata": {},
   "outputs": [],
   "source": []
  }
 ],
 "metadata": {
  "kernelspec": {
   "display_name": "Python 3 (ipykernel)",
   "language": "python",
   "name": "python3"
  },
  "language_info": {
   "codemirror_mode": {
    "name": "ipython",
    "version": 3
   },
   "file_extension": ".py",
   "mimetype": "text/x-python",
   "name": "python",
   "nbconvert_exporter": "python",
   "pygments_lexer": "ipython3",
   "version": "3.9.13"
  }
 },
 "nbformat": 4,
 "nbformat_minor": 5
}
